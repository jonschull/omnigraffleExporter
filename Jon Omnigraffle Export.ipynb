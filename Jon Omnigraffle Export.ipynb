{
 "cells": [
  {
   "cell_type": "code",
   "execution_count": null,
   "metadata": {
    "collapsed": true
   },
   "outputs": [],
   "source": [
    "# This is the workspace basis for the standalone exportActiveCanvassesFromGraffles.py\n",
    "which has a few additional nuances. "
   ]
  },
  {
   "cell_type": "code",
   "execution_count": 4,
   "metadata": {
    "collapsed": false
   },
   "outputs": [
    {
     "name": "stdout",
     "output_type": "stream",
     "text": [
      "\n"
     ]
    }
   ],
   "source": [
    "from omnigraffle import *\n",
    "from omnigraffle_export import export\n",
    "\n",
    "\n",
    "def exportActiveCanvas(source='SkipProc.graffle'):\n",
    "    og = OmniGraffle()\n",
    "    schema = og.open(source)\n",
    "    activeCanvas = schema.active_canvas_name()  #works!\n",
    "    activeCanvasName = activeCanvas + '.pdf'\n",
    "    export(source, activeCanvasName, format='pdf', canvasname=activeCanvas)\n",
    "    return activeCanvasName\n",
    "\n",
    "#exportActiveCanvas()"
   ]
  },
  {
   "cell_type": "code",
   "execution_count": 8,
   "metadata": {
    "collapsed": false
   },
   "outputs": [
    {
     "name": "stdout",
     "output_type": "stream",
     "text": [
      "I'm watching the graffle files in this directory.\n",
      "When one of them is saved to disk, I will create a PDF from the active Canvs.\n",
      "\n",
      "Watching 2 files: SecondGraffle.graffle SkipProc.graffle\n",
      "SkipProc.graffle changed. Created Canvas 1.pdf\n"
     ]
    },
    {
     "ename": "KeyboardInterrupt",
     "evalue": "",
     "output_type": "error",
     "traceback": [
      "\u001b[0;31m---------------------------------------------------------------------------\u001b[0m",
      "\u001b[0;31mKeyboardInterrupt\u001b[0m                         Traceback (most recent call last)",
      "\u001b[0;32m<ipython-input-8-049c41514a89>\u001b[0m in \u001b[0;36m<module>\u001b[0;34m()\u001b[0m\n\u001b[1;32m     16\u001b[0m     \u001b[0;32mfor\u001b[0m \u001b[0mfn\u001b[0m \u001b[0;32min\u001b[0m \u001b[0mhaveChanged\u001b[0m\u001b[0;34m(\u001b[0m \u001b[0mfilenames\u001b[0m \u001b[0;34m)\u001b[0m\u001b[0;34m:\u001b[0m\u001b[0;34m\u001b[0m\u001b[0m\n\u001b[1;32m     17\u001b[0m         \u001b[0;32mprint\u001b[0m \u001b[0mfn\u001b[0m\u001b[0;34m,\u001b[0m \u001b[0;34m'changed. Created'\u001b[0m\u001b[0;34m,\u001b[0m \u001b[0mexportActiveCanvas\u001b[0m\u001b[0;34m(\u001b[0m\u001b[0msource\u001b[0m\u001b[0;34m=\u001b[0m\u001b[0mfn\u001b[0m\u001b[0;34m)\u001b[0m\u001b[0;34m\u001b[0m\u001b[0m\n\u001b[0;32m---> 18\u001b[0;31m     \u001b[0msleep\u001b[0m\u001b[0;34m(\u001b[0m\u001b[0;36m0.5\u001b[0m\u001b[0;34m)\u001b[0m\u001b[0;34m\u001b[0m\u001b[0m\n\u001b[0m",
      "\u001b[0;31mKeyboardInterrupt\u001b[0m: "
     ]
    }
   ],
   "source": [
    "from onchange import haveChanged\n",
    "from glob import glob\n",
    "from time import sleep\n",
    "\n",
    "filenames = glob('*.graffle')\n",
    "\n",
    "print \"\"\"I'm watching the graffle files in this directory.\n",
    "When one of them is saved to disk, I will create a PDF from the active Canvs.\n",
    "(Ctrl-c to interrupt)\n",
    "\"\"\"\n",
    "\n",
    "print 'Watching', len(filenames), 'files:',\n",
    "for fn in filenames: print fn, \n",
    "print\n",
    "\n",
    "while 1:\n",
    "    for fn in haveChanged( filenames ):\n",
    "        print fn, 'changed. Created', exportActiveCanvas(source=fn)\n",
    "    sleep(0.5)"
   ]
  },
  {
   "cell_type": "code",
   "execution_count": null,
   "metadata": {
    "collapsed": false
   },
   "outputs": [],
   "source": [
    "source='SkipProc.graffle'\n",
    "og = OmniGraffle()\n",
    "schema = og.open(source)\n",
    "activeCanvas = schema.active_canvas_name()  #works!\n",
    "activeCanvasName = activeCanvas + '.pdf'\n",
    "export(source, activeCanvasName, format='pdf', canvasname=activeCanvas)\n",
    "\n",
    "#export('SkipProc.graffle', 'out2.pdf', format='pdf', canvasname='LabAll')"
   ]
  },
  {
   "cell_type": "code",
   "execution_count": null,
   "metadata": {
    "collapsed": false
   },
   "outputs": [],
   "source": [
    "#export('SkipProc.graffle', 'out.png', format='png', canvasname='LabAll')\n",
    "export('SkipProc.graffle', 'out.pdf', format='pdf', canvasname='LabAll')\n",
    "#export('SkipProc.graffle', 'out.svg', format='svg', canvasname='LabAll')\n",
    "#This works for png and for PDF, not svg"
   ]
  },
  {
   "cell_type": "code",
   "execution_count": null,
   "metadata": {
    "collapsed": false
   },
   "outputs": [],
   "source": [
    "export('SkipProc.graffle', 'out.pdf', format='pdf', canvasname='LabAll')"
   ]
  },
  {
   "cell_type": "code",
   "execution_count": null,
   "metadata": {
    "collapsed": false
   },
   "outputs": [],
   "source": [
    "#omnigraffle_export.py\n",
    "#!/usr/bin/env python\n",
    "\n",
    "import os\n",
    "import sys\n",
    "import optparse\n",
    "import logging\n",
    "import tempfile\n",
    "import hashlib\n",
    "\n",
    "from Foundation import NSURL, NSMutableDictionary\n",
    "from Quartz import PDFKit\n",
    "from omnigraffle import *\n",
    "\n",
    "def export(source, target, canvasname=None, format='pdf', debug=False, force=False):\n",
    "    # logging\n",
    "    if debug:\n",
    "        logging.basicConfig(level=logging.DEBUG)\n",
    "    else:\n",
    "        logging.basicConfig(level=logging.INFO, format='%(message)s')\n",
    "\n",
    "    # target\n",
    "    target = os.path.abspath(target)\n",
    "\n",
    "    # mode\n",
    "    export_all = os.path.isdir(target)\n",
    "\n",
    "    # determine the canvas\n",
    "    if not export_all:\n",
    "        # guess from filename\n",
    "        if not canvasname:\n",
    "            canvasname = os.path.basename(target)\n",
    "            canvasname = canvasname[:canvasname.rfind('.')]\n",
    "\n",
    "        if not canvasname or len(canvasname) == 0:\n",
    "            print >> sys.stderr, \"Without canvas name, the target (-t) \"\\\n",
    "                                       \"must be a directory\"\n",
    "            sys.exit(1)\n",
    "\n",
    "    # determine the format\n",
    "    if not export_all:\n",
    "        # guess from the suffix\n",
    "        if not format:\n",
    "            format = target[target.rfind('.')+1:]\n",
    "\n",
    "    if not format or len(format) == 0:\n",
    "        format = 'pdf'\n",
    "    else:\n",
    "        format = format.lower()\n",
    "\n",
    "    # check source\n",
    "    if not os.access(source, os.R_OK):\n",
    "        print >> sys.stderr, \"File: %s could not be opened for reading\" % source\n",
    "        sys.exit(1)\n",
    "\n",
    "    og = OmniGraffle()\n",
    "    schema = og.open(source)\n",
    "\n",
    "    if export_all:\n",
    "        namemap=lambda c, f: '%s.%s' % (c, f) if f else c\n",
    "\n",
    "        for c in schema.get_canvas_list():\n",
    "            targetfile = os.path.join(os.path.abspath(target),\n",
    "                                      namemap(c, format))\n",
    "            logging.debug(\"Exporting `%s' into `%s' as %s\" %\n",
    "                          (c, targetfile, format))\n",
    "            export_one(schema, targetfile, c, format, force)\n",
    "    else:\n",
    "        export_one(schema, target, canvasname, format, force)\n",
    "\n",
    "def export_one(schema, filename, canvasname, format='pdf', force=False):\n",
    "    def _checksum(filepath):\n",
    "        assert os.path.isfile(filepath), '%s is not a file' % filepath\n",
    "\n",
    "        c = hashlib.md5()\n",
    "        with open(filepath, 'rb') as f:\n",
    "            for chunk in iter(lambda: f.read(128), ''):\n",
    "                c.update(chunk)\n",
    "\n",
    "        return c.hexdigest()\n",
    "\n",
    "    def _checksum_pdf(filepath):\n",
    "        assert os.path.isfile(filepath), '%s is not a file' % filepath\n",
    "\n",
    "        url = NSURL.fileURLWithPath_(filepath)\n",
    "        pdfdoc = PDFKit.PDFDocument.alloc().initWithURL_(url)\n",
    "        \n",
    "        assert pdfdoc != None\n",
    "        \n",
    "        chsum = None\n",
    "        attrs = pdfdoc.documentAttributes()\n",
    "        if PDFKit.PDFDocumentSubjectAttribute in attrs:\n",
    "            chksum = pdfdoc.documentAttributes()[PDFKit.PDFDocumentSubjectAttribute]\n",
    "        else:\n",
    "            return None\n",
    "\n",
    "        if not chksum.startswith(OmniGraffleSchema.PDF_CHECKSUM_ATTRIBUTE):\n",
    "            return None\n",
    "        else:\n",
    "            return chksum[len(OmniGraffleSchema.PDF_CHECKSUM_ATTRIBUTE):]\n",
    "\n",
    "    def _compute_canvas_checksum(canvasname):\n",
    "        tmpfile = tempfile.mkstemp(suffix='.png')[1]\n",
    "        os.unlink(tmpfile)\n",
    "\n",
    "        export_one(schema, tmpfile, canvasname, 'png')\n",
    "\n",
    "        try:\n",
    "            chksum = _checksum(tmpfile)\n",
    "            return chksum\n",
    "        finally:\n",
    "            os.unlink(tmpfile)\n",
    "\n",
    "    # checksum\n",
    "    chksum = None\n",
    "    if os.path.isfile(filename) and not force:\n",
    "        existing_chksum = _checksum(filename) if format != 'pdf' \\\n",
    "                                              else _checksum_pdf(filename)\n",
    "\n",
    "        new_chksum = _compute_canvas_checksum(canvasname)\n",
    "\n",
    "        if existing_chksum == new_chksum and existing_chksum != None:\n",
    "            logging.debug('Not exporting `%s` into `%s` as `%s` - canvas has not been changed' % (canvasname, filename, format))\n",
    "            return False\n",
    "        else:\n",
    "            chksum = new_chksum\n",
    "\n",
    "    elif format == 'pdf':\n",
    "        chksum = _compute_canvas_checksum(canvasname)\n",
    "\n",
    "    try:\n",
    "        schema.export(canvasname, filename, format=format)\n",
    "    except RuntimeError as e:\n",
    "        print >> sys.stderr, e.message\n",
    "        return False\n",
    "\n",
    "    # update checksum\n",
    "    if format == 'pdf':\n",
    "        # save the checksum\n",
    "        url = NSURL.fileURLWithPath_(filename)\n",
    "        pdfdoc = PDFKit.PDFDocument.alloc().initWithURL_(url)\n",
    "        attrs = NSMutableDictionary.alloc().initWithDictionary_(pdfdoc.documentAttributes())\n",
    "\n",
    "        attrs[PDFKit.PDFDocumentSubjectAttribute] = \\\n",
    "            '%s%s' % (OmniGraffleSchema.PDF_CHECKSUM_ATTRIBUTE, chksum)\n",
    "\n",
    "        pdfdoc.setDocumentAttributes_(attrs)\n",
    "        pdfdoc.writeToFile_(filename)\n",
    "\n",
    "    return True\n",
    "\n",
    "\n",
    "def main():\n",
    "    usage = \"Usage: %prog [options] <source> <target>\"\n",
    "    parser = optparse.OptionParser(usage=usage)\n",
    "\n",
    "    parser.add_option('-c',\n",
    "                      help='canvas name. If not given it will be guessed from '\n",
    "                      'the target filename unless it is a directory.',\n",
    "                      metavar='NAME', dest='canvasname')\n",
    "    parser.add_option('-f',\n",
    "                      help='format (one of: pdf, png, svg, eps). Guessed '\n",
    "                      'from the target filename suffix unless it is a '\n",
    "                      'directory. Defaults to pdf',\n",
    "                      metavar='FMT', dest='format')\n",
    "    parser.add_option('--force', action='store_true', help='force the export',\n",
    "                      dest='force')\n",
    "    parser.add_option('--debug', action='store_true', help='debug',\n",
    "                      dest='debug')\n",
    "\n",
    "    (options, args) = parser.parse_args()\n",
    "\n",
    "    if len(args) != 2:\n",
    "        parser.print_help()\n",
    "        sys.exit(1)\n",
    "\n",
    "    (source, target) = args\n",
    "\n",
    "    export(source, target, options.canvasname, options.format, \n",
    "        options.debug, options.force)\n",
    "\n",
    "if __name__ == 'XXX__main__':\n",
    "    main()\n"
   ]
  },
  {
   "cell_type": "code",
   "execution_count": null,
   "metadata": {
    "collapsed": true
   },
   "outputs": [],
   "source": []
  },
  {
   "cell_type": "code",
   "execution_count": null,
   "metadata": {
    "collapsed": true
   },
   "outputs": [],
   "source": []
  }
 ],
 "metadata": {
  "anaconda-cloud": {},
  "kernelspec": {
   "display_name": "Python [Root]",
   "language": "python",
   "name": "Python [Root]"
  },
  "language_info": {
   "codemirror_mode": {
    "name": "ipython",
    "version": 2
   },
   "file_extension": ".py",
   "mimetype": "text/x-python",
   "name": "python",
   "nbconvert_exporter": "python",
   "pygments_lexer": "ipython2",
   "version": "2.7.12"
  }
 },
 "nbformat": 4,
 "nbformat_minor": 0
}
